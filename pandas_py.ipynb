{
  "nbformat": 4,
  "nbformat_minor": 0,
  "metadata": {
    "colab": {
      "provenance": [],
      "authorship_tag": "ABX9TyOXqLUIjs/yJka/hPFGpwjP",
      "include_colab_link": true
    },
    "kernelspec": {
      "name": "python3",
      "display_name": "Python 3"
    },
    "language_info": {
      "name": "python"
    }
  },
  "cells": [
    {
      "cell_type": "markdown",
      "metadata": {
        "id": "view-in-github",
        "colab_type": "text"
      },
      "source": [
        "<a href=\"https://colab.research.google.com/github/aldidaim21/code/blob/master/pandas_py.ipynb\" target=\"_parent\"><img src=\"https://colab.research.google.com/assets/colab-badge.svg\" alt=\"Open In Colab\"/></a>"
      ]
    },
    {
      "cell_type": "markdown",
      "source": [
        "#**Mengapa Pake Pandas**\n",
        "\n",
        "pandas adalah libary python yang digunakan untuk bekerja dengan kumpulan data. Pandas mimiliki fungsi untuk menganalisis , membersihkan, ekspolrasi dan memanipulasi data "
      ],
      "metadata": {
        "id": "idOyfyq4g7nX"
      }
    },
    {
      "cell_type": "markdown",
      "source": [
        "# **GET STARTED**\n",
        "\n",
        "pembelajaran pertama tentang pandas"
      ],
      "metadata": {
        "id": "jfa02rzkeBTG"
      }
    },
    {
      "cell_type": "code",
      "source": [
        "#import data libarynya dulu maseh\n",
        "import pandas as pd\n",
        "\n",
        "#buat datasetnya maseh\n",
        "dataset  = { \n",
        "    'nama' : ['aldi daim fauzan','asep mabar','rrq windah'] ,\n",
        "    'umur' : [40,21,31]\n",
        "}\n",
        "\n",
        "#konversi biar bisa ditampilin\n",
        "myvar = pd.DataFrame(dataset)\n",
        "\n",
        "print(myvar)"
      ],
      "metadata": {
        "colab": {
          "base_uri": "https://localhost:8080/"
        },
        "id": "IN1DhBV6ei7I",
        "outputId": "b1030e00-73f8-436b-a791-f7e64fdd0a9e"
      },
      "execution_count": null,
      "outputs": [
        {
          "output_type": "stream",
          "name": "stdout",
          "text": [
            "               nama  umur\n",
            "0  aldi daim fauzan    40\n",
            "1        asep mabar    21\n",
            "2        rrq windah    31\n"
          ]
        }
      ]
    }
  ]
}