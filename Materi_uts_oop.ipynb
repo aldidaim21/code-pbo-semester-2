{
  "nbformat": 4,
  "nbformat_minor": 0,
  "metadata": {
    "colab": {
      "provenance": [],
      "authorship_tag": "ABX9TyNNqCi9SzHpLH8wIHsSZ2bQ",
      "include_colab_link": true
    },
    "kernelspec": {
      "name": "python3",
      "display_name": "Python 3"
    },
    "language_info": {
      "name": "python"
    }
  },
  "cells": [
    {
      "cell_type": "markdown",
      "metadata": {
        "id": "view-in-github",
        "colab_type": "text"
      },
      "source": [
        "<a href=\"https://colab.research.google.com/github/aldidaim21/code-pbo-semester-2/blob/master/Materi_uts_oop.ipynb\" target=\"_parent\"><img src=\"https://colab.research.google.com/assets/colab-badge.svg\" alt=\"Open In Colab\"/></a>"
      ]
    },
    {
      "cell_type": "markdown",
      "source": [
        "#**OOP**\n",
        "Pengertian OOP:\n",
        "Object Oriented Programming (OOP) atau Pemrograman Berorientasi Objek adalah suatu konsep yang mengasumsikan semua yang ada dalam program sebagai kumpulan objek yang berisi data dan operasi yang diberlakukan terhadapnya.\n",
        "\n",
        "\n",
        "Keuntungan menggunakan OOP:\n",
        "Berikut ini adalah beberapa keuntungan menggunakan konsep OOP.\n",
        "\n",
        "\n",
        "1. Reusability, kode yang dibuat dapat digunakan kembali.\n",
        "2. Extensibility, dapat diubah tanpa membuat ulang kode.\n",
        "3. Extensibility, dapat diubah tanpa membuat ulang kode.\n",
        "4. Maintainability, mudah dikelola.\n",
        "5. Efisien dan reliabel, menghemat waktu dan dapat diandalkan.\n"
      ],
      "metadata": {
        "id": "ndj9HEH9H_TB"
      }
    },
    {
      "cell_type": "markdown",
      "source": [
        "#**Pengertian Class**\n",
        "adalah blueprint atau prototype, yang mendefinisikan variabel dan method-method pada seluruh object tertentu untuk membuat anggota dirinya sendiri mengarah kepada class instance, class object, instance object atau simply object"
      ],
      "metadata": {
        "id": "BImyNAtOLIqX"
      }
    },
    {
      "cell_type": "code",
      "execution_count": null,
      "metadata": {
        "colab": {
          "base_uri": "https://localhost:8080/"
        },
        "id": "DPr19RqjH7IN",
        "outputId": "a285b0f6-23ef-4134-dda0-0b033f3cd719"
      },
      "outputs": [
        {
          "output_type": "stream",
          "name": "stdout",
          "text": [
            "rolex\n",
            "12000\n",
            "hejo\n"
          ]
        }
      ],
      "source": [
        "#class sederhana\n",
        "\n",
        "class jamtangan:\n",
        "    def __init__(self, brand, price, warna):\n",
        "        self.brand = brand\n",
        "        self.price = price\n",
        "        self.warna = warna\n",
        "\n",
        "\n",
        "ak = jamtangan('rolex', 12000, 'hejo')\n",
        "print(ak.brand)\n",
        "print(ak.price)\n",
        "print(ak.warna)"
      ]
    },
    {
      "cell_type": "markdown",
      "source": [
        "#**CLASS PAKE RETURN**"
      ],
      "metadata": {
        "id": "w6PzM3dsN3Jr"
      }
    },
    {
      "cell_type": "code",
      "source": [
        "class segitiga:\n",
        "  def __init__ (self,alas,tinggi):\n",
        "    self.alas=alas\n",
        "    self.tinggi=tinggi\n",
        "\n",
        "  def hitung_luas(self):\n",
        "    return  0.5 * self.alas * self.tinggi\n",
        "\n",
        "#buat objeknya \n",
        "segitiga1 = segitiga(10,10)\n",
        "\n",
        "#menghitung menampilkanluas \n",
        "\n",
        "print(segitiga1.hitung_luas())"
      ],
      "metadata": {
        "id": "OtCIsprwL81a",
        "colab": {
          "base_uri": "https://localhost:8080/"
        },
        "outputId": "9039f0cf-8cd1-4ecc-bef0-24935c37a5e5"
      },
      "execution_count": null,
      "outputs": [
        {
          "output_type": "stream",
          "name": "stdout",
          "text": [
            "50.0\n"
          ]
        }
      ]
    },
    {
      "cell_type": "markdown",
      "source": [
        "#**OBJEK**\n",
        "Object adalah data yang mempresentasikan class dan juga merupakan sesuatu yang memiliki identitas (nama), pada umumnya juga memiliki data tentang dirinya maupun object lain dan mempunyai kemampuan untuk melakukan sesuatu dan bisa bekerja sama dengan objek lainnya. Setiap object memiliki dua karakteristik yang utama yaitu, atribut dan behavior."
      ],
      "metadata": {
        "id": "cjA44uwgRj6C"
      }
    },
    {
      "cell_type": "markdown",
      "source": [
        "#**BISA NGITUNG OBJEK YANG DIBUAT**"
      ],
      "metadata": {
        "id": "psDpI1MfRasl"
      }
    },
    {
      "cell_type": "code",
      "source": [
        "class mahasiswa:\n",
        "  #counter class global\n",
        "  jumlah_mahasiswa =0\n",
        "\n",
        "  def __init__(self,nama,jurusan):\n",
        "    self.nama= nama\n",
        "    self.jurusan=jurusan\n",
        "    mahasiswa.jumlah_mahasiswa  += 1\n",
        "     #setiap kita buat objek nilai akan ditambah 1\n",
        "\n",
        "  def detail(self):\n",
        "    print(\"nama mahasiswa\", self.nama)\n",
        "    print(\"jurusan\",self.jurusan)\n",
        "\n",
        "  def jumlah(self):\n",
        "    print(\"jumlah mahasiswa\",mahasiswa.jumlah_mahasiswa)\n",
        "\n",
        "#objeknya\n",
        "mahasiswa1=mahasiswa(\"aldi\",\"sains data\")\n",
        "\n",
        "#panggil atributnya\n",
        "mahasiswa1.detail()\n",
        "mahasiswa.jumlah(mahasiswa)\n"
      ],
      "metadata": {
        "colab": {
          "base_uri": "https://localhost:8080/"
        },
        "id": "NPCStsQpRaOD",
        "outputId": "a9180032-1873-414b-f759-89dcd6947ba2"
      },
      "execution_count": null,
      "outputs": [
        {
          "output_type": "stream",
          "name": "stdout",
          "text": [
            "nama mahasiswa aldi\n",
            "jurusan sains data\n",
            "jumlah mahasiswa 1\n"
          ]
        }
      ]
    },
    {
      "cell_type": "markdown",
      "source": [
        "#**method**\n",
        "Method adalah suatu operasi yang mirip dengan fungsi. Method merupakan transformasi yang dapat dilakukan terhadap objek atau yang dilakukan oleh objek. method biasanya berisi perintah seperti loop,print dan return\n",
        "\n",
        "\n"
      ],
      "metadata": {
        "id": "2gZOpB8NVFsj"
      }
    },
    {
      "cell_type": "markdown",
      "source": [
        "#**@staticmethod**\n",
        "\n",
        "---\n",
        "Static method adalah sebuah metode di dalam sebuah kelas yang tidak memerlukan akses ke objek atau instance dari kelas tersebut. Dalam bahasa pemrograman Python, sebuah static method didekorasi menggunakan decorator @staticmethod\n"
      ],
      "metadata": {
        "id": "oOfXmJ92Vk7r"
      }
    },
    {
      "cell_type": "code",
      "source": [
        "class matematika_184220030:\n",
        "    @staticmethod\n",
        "    def tambah(a, b):\n",
        "        return a + b\n",
        "\n",
        "    @staticmethod\n",
        "    def kurang(a, b):\n",
        "        return a - b\n",
        "\n",
        "    @staticmethod\n",
        "    def kali(a, b):\n",
        "        return a*b\n",
        "\n",
        "# pemanggilan langsung\n",
        "\n",
        "# panggil tambah\n",
        "print(matematika_184220030.tambah(10, 2))\n",
        "\n",
        "# panggil kurang\n",
        "print(matematika_184220030.kurang(11, 12))\n",
        "\n",
        "# pemanggilan objek\n",
        "tambah1 = matematika_184220030()\n",
        "print(tambah1.tambah(10, 1))"
      ],
      "metadata": {
        "colab": {
          "base_uri": "https://localhost:8080/"
        },
        "id": "HJ6oq2tFVzMT",
        "outputId": "156a1a9c-b364-434f-bdcf-ce72dfd9cc66"
      },
      "execution_count": null,
      "outputs": [
        {
          "output_type": "stream",
          "name": "stdout",
          "text": [
            "12\n",
            "-1\n",
            "11\n"
          ]
        }
      ]
    },
    {
      "cell_type": "markdown",
      "source": [
        "#**atribut statis**\n",
        "\n",
        "\n",
        "---\n",
        "Atribut statis adalah atribut kelas yang dimiliki setiap objek. Atribut statis tidak didefinisikan di dalam def __init__ atau method lainnya. Atribut ini dapat diletakkan sebelum def __init__ tanpa menggunakan format self.\n"
      ],
      "metadata": {
        "id": "sHN0AFKCWNcW"
      }
    },
    {
      "cell_type": "code",
      "source": [
        "class balok_184220040:\n",
        "    # atribut statis\n",
        "    penghitung = 0\n",
        "\n",
        "    def __init__(self, panjang, lebar, tinggi):\n",
        "        balok_184220040.penghitung += 1\n",
        "        # atribut bukan statis\n",
        "        self.panjang = panjang\n",
        "        self.lebar = lebar\n",
        "        self.tinggi = tinggi\n",
        "\n",
        "    def ubahPanjang(self, panjang):\n",
        "        self.panjang = panjang\n",
        "\n",
        "    def ubahLebar(self, lebar):\n",
        "        self.lebar = lebar\n",
        "\n",
        "    def ubahTinggi(self, tinggi):\n",
        "        self.tinggi = tinggi\n",
        "\n",
        "    def hitungLuas(self):\n",
        "        return self.panjang * self.lebar * self.tinggi\n",
        "\n",
        "    def hitungKeliling(self):\n",
        "        return 4*(self.panjang + self.lebar + self.tinggi)\n",
        "\n",
        "    def cetakLuas(self):\n",
        "        print('Luas Balok = %.2f' % self.hitungLuas(), 'cm')\n",
        "\n",
        "    def cetakKeliling(self):\n",
        "        print('Luas keliling balok = %.2f' % self.hitungKeliling(), 'cm')\n",
        "\n",
        "\n",
        "# objek\n",
        "objek1 = balok_184220040(10, 10, 10)\n",
        "objek2 = balok_184220040(10, 10, 10)\n",
        "\n",
        "# cetak luas\n",
        "objek1.cetakLuas()\n",
        "objek2.cetakLuas()\n",
        "objek1.cetakKeliling()\n",
        "\n",
        "# counter\n",
        "print(balok_184220040.penghitung)"
      ],
      "metadata": {
        "colab": {
          "base_uri": "https://localhost:8080/"
        },
        "id": "cf2O6Qd9WaZb",
        "outputId": "57f74169-4313-4250-d876-837bef3d91fa"
      },
      "execution_count": null,
      "outputs": [
        {
          "output_type": "stream",
          "name": "stdout",
          "text": [
            "Luas Balok = 1000.00 cm\n",
            "Luas Balok = 1000.00 cm\n",
            "Luas keliling balok = 120.00 cm\n",
            "2\n"
          ]
        }
      ]
    },
    {
      "cell_type": "markdown",
      "source": [
        "#**pembungkusan (encapulation)**\n",
        "\n",
        "\n",
        "---\n",
        "Enkapsulasi (Encapsulation) adalah sebuah teknik dalam OOP yang mengizinkan kita untuk menyembunyikan detil dari sebuah atribut dalam sebuah class"
      ],
      "metadata": {
        "id": "nosjebehWlA4"
      }
    },
    {
      "cell_type": "code",
      "source": [
        "#protect\n",
        "\n",
        "class Mobil:\n",
        "    def __init__(self, merk):\n",
        "        self._merk = merk\n",
        "\n",
        "\n",
        "class MobilBalap(Mobil):\n",
        "    def __init__(self, merk, total_gear):\n",
        "        super().__init__(merk)\n",
        "        self._total_gear = total_gear\n",
        "\n",
        "    def pamer(self):\n",
        "        # akses _merk dari subclass\n",
        "        print(\n",
        "            f'Ini mobil {self._merk} dengan total gear {self._total_gear}'\n",
        "        )\n",
        "\n",
        "\n",
        "ferrari = MobilBalap('Ferrari', 8)\n",
        "ferrari.pamer()\n"
      ],
      "metadata": {
        "colab": {
          "base_uri": "https://localhost:8080/"
        },
        "id": "0POa4M7LbC6_",
        "outputId": "709fb0df-6441-49b9-9ea4-4db9ab8057a1"
      },
      "execution_count": null,
      "outputs": [
        {
          "output_type": "stream",
          "name": "stdout",
          "text": [
            "Ini mobil Ferrari dengan total gear 8\n"
          ]
        }
      ]
    },
    {
      "cell_type": "code",
      "source": [
        "#private\n",
        "class Mobil:\n",
        "    def __init__(self, merk):\n",
        "        self.__merk = merk\n",
        "\n",
        "    def tampilkan_merk(self):\n",
        "        print(f'Merk: {self.__merk}')\n",
        "\n",
        "\n",
        "jip = Mobil('Jeep')\n",
        "jip.tampilkan_merk()\n",
        "\n",
        "# # eror\n",
        "# print(f'Merk: {jip.__merk}') hp"
      ],
      "metadata": {
        "id": "a6qliCC-bHvI"
      },
      "execution_count": null,
      "outputs": []
    },
    {
      "cell_type": "code",
      "source": [
        "#public\n",
        "class Segitiga:\n",
        "\n",
        "    def __init__(self, alas, tinggi):\n",
        "        self.alas = alas\n",
        "        self.tinggi = tinggi\n",
        "        self.luas = 0.5 * alas * tinggi\n",
        "\n",
        "\n",
        "segitiga_besar = Segitiga(100, 80)\n",
        "\n",
        "# akses variabel alas, tinggi, dan luas dari luar kelas\n",
        "print(f'alas: {segitiga_besar.alas}')\n",
        "print(f'tinggi: {segitiga_besar.tinggi}')\n",
        "print(f'luas: {segitiga_besar.luas}')"
      ],
      "metadata": {
        "colab": {
          "base_uri": "https://localhost:8080/"
        },
        "id": "B7Zx3--8bcR8",
        "outputId": "a2a1ed5f-5e5c-4d65-be68-eee0f6bf90e0"
      },
      "execution_count": null,
      "outputs": [
        {
          "output_type": "stream",
          "name": "stdout",
          "text": [
            "alas: 100\n",
            "tinggi: 80\n",
            "luas: 4000.0\n"
          ]
        }
      ]
    },
    {
      "cell_type": "markdown",
      "source": [
        "#**Pewarisan**\n",
        "---\n",
        "Pewarisan adalah ketika sebuah kelas mengambil dan meniru atau mewarisi sifat-sifat induk class nya"
      ],
      "metadata": {
        "id": "aXQVmUabbnb7"
      }
    },
    {
      "cell_type": "code",
      "source": [
        "class identitas_kota:\n",
        "    def __init__(self, kota, kecamatan):\n",
        "        self.kota = kota\n",
        "        self.kecamatan = kecamatan\n",
        "\n",
        "    def informasi_kota(self):\n",
        "        print('kota', self.kota, 'kecamatanya adalah', self.kecamatan)\n",
        "\n",
        "\n",
        "class identitaskota1(identitas_kota):\n",
        "    def informasi_kota(self):\n",
        "        print('kota', self.kota, 'kecamatan', self.kecamatan)\n",
        "\n",
        "\n",
        "obj1 = identitas_kota('Bekasi', 'pademangan')\n",
        "obj2 = identitaskota1('cimahi', 'cibabat')\n",
        "obj3 = identitaskota1('bandung', 'sariasih')\n",
        "\n",
        "obj1.informasi_kota()\n",
        "obj2.informasi_kota()"
      ],
      "metadata": {
        "colab": {
          "base_uri": "https://localhost:8080/"
        },
        "id": "vXPhROKYb_HI",
        "outputId": "b68be1a1-0918-46f0-b200-13925b86ecae"
      },
      "execution_count": null,
      "outputs": [
        {
          "output_type": "stream",
          "name": "stdout",
          "text": [
            "kota Bekasi kecamatanya adalah pademangan\n",
            "kota cimahi kecamatan cibabat\n"
          ]
        }
      ]
    },
    {
      "cell_type": "markdown",
      "source": [
        "#**Abstrak**\n",
        "Kelas abstrak merupakan kelas yang tidak dapat diimplementasikan sehingga harus diimplementasikan oleh kelas turunannya.\n",
        "Kelas abstrak dapat dibuat dengan mengimport modul abc (abstract base class) yang mendefinisikan kelas ABCMeta dan dekorator @abstractmethod\n"
      ],
      "metadata": {
        "id": "55qotTk2cyjg"
      }
    },
    {
      "cell_type": "code",
      "source": [
        "from abc import ABCMeta, abstractmethod\n",
        "\n",
        "\n",
        "# kelass abstrak\n",
        "class TigaDimensi_184220030(metaclass=ABCMeta):\n",
        "    @abstractmethod\n",
        "    def Volume(self):\n",
        "        pass\n",
        "\n",
        "\n",
        "# kelas kubus turunan dari class tiga dimensi\n",
        "class kubus(TigaDimensi_184220030):\n",
        "    def __init__(self, s):\n",
        "        self.sisi = s\n",
        "\n",
        "    def Volume(self):\n",
        "        return self.sisi * self.sisi * self.sisi\n",
        "\n",
        "\n",
        "# kelas Balok  turunan dari kelas Tiga Dimensi\n",
        "class balok(TigaDimensi_184220030):\n",
        "    def __init__(self, p, l, t):\n",
        "        self.panjang = p\n",
        "        self.lebar = l\n",
        "        self.tinggi = t\n",
        "\n",
        "    def Volume(self):\n",
        "        return self.panjang * self.lebar * self.tinggi\n",
        "\n",
        "\n",
        "# # error\n",
        "# obj = TigaDimensi_184220030()\n",
        "\n",
        "# print(obj)\n",
        "\n",
        "# pemanggilan objek dengan kelas turunan\n",
        "obj1 = balok(1, 1, 1).Volume()\n",
        "print(obj1)\n",
        "\n",
        "obj2 = kubus(2).Volume()\n",
        "print(obj2)"
      ],
      "metadata": {
        "id": "2ov0XTSec__Q"
      },
      "execution_count": null,
      "outputs": []
    },
    {
      "cell_type": "markdown",
      "source": [
        "\n",
        "#**Polimorfisme**\n",
        "\n",
        "---\n",
        "\n",
        "\n",
        "Polimorfisme adalah kemampuan objek untuk melakukan banyak hal dalam satu cara. \n"
      ],
      "metadata": {
        "id": "H1d9AK2_dtXx"
      }
    },
    {
      "cell_type": "code",
      "source": [
        "from abc import ABCMeta, abstractmethod\n",
        "\n",
        "\n",
        "# kelass abstrak\n",
        "class TigaDimensi_184220030(metaclass=ABCMeta):\n",
        "    @abstractmethod\n",
        "    def Volume(self):\n",
        "        pass\n",
        "\n",
        "\n",
        "# kelas kubus turunan dari class tiga dimensi\n",
        "class kubus(TigaDimensi_184220030):\n",
        "    def __init__(self, s):\n",
        "        self.sisi = s\n",
        "\n",
        "    def Volume(self):\n",
        "        return self.sisi * self.sisi * self.sisi\n",
        "\n",
        "\n",
        "# kelas Balok  turunan dari kelas Tiga Dimensi\n",
        "class balok(TigaDimensi_184220030):\n",
        "    def __init__(self, p, l, t):\n",
        "        self.panjang = p\n",
        "        self.lebar = l\n",
        "        self.tinggi = t\n",
        "\n",
        "    def Volume(self):\n",
        "        return self.panjang * self.lebar * self.tinggi\n",
        "\n",
        "\n",
        "# kelas tabung turunan dari kelas Tiga dimensi\n",
        "class tabung(TigaDimensi_184220030):\n",
        "    def __init__(self, r, t):\n",
        "        self.jarijari = r\n",
        "        self.tinggi = t\n",
        "\n",
        "    def Volume(self):\n",
        "        return 3.14 * self.jarijari * self.jarijari * self.tinggi\n",
        "\n",
        "\n",
        "# membuat list kosong\n",
        "mylist = []\n",
        "print(mylist)\n",
        "\n",
        "\n",
        "# menambahkan objek kubus ke dalam mylist\n",
        "mylist.append(kubus(10))\n",
        "print(mylist)\n",
        "# menambahkan objek balok ke dalam mylist\n",
        "mylist.append(balok(3, 5, 2))\n",
        "print(mylist)\n",
        "# menambahkan objek Tabung ke dalam mylist\n",
        "mylist.append(tabung(10, 10))\n",
        "print(mylist)\n",
        "\n",
        "\n",
        "# menelusuri seluruh elemen mylist,\n",
        "# kemudian memanggil metode luas ()\n",
        "# dari setiap objek yang ditelusuri\n",
        "for obj in mylist:\n",
        "    if not issubclass(obj.__class__, TigaDimensi_184220030):\n",
        "        raise TypeError('Objek harus turunan dari class tiga dimensi')\n",
        "    if isinstance(obj, kubus):\n",
        "        print('Volume kubus  = ', end='')\n",
        "    elif isinstance(obj, balok):\n",
        "        print('Volume Blok = ', end='')\n",
        "    else:\n",
        "        print('Volume Tabung = ', end='')\n",
        "    print(obj.Volume())"
      ],
      "metadata": {
        "colab": {
          "base_uri": "https://localhost:8080/"
        },
        "id": "uYOEi9ErdtMD",
        "outputId": "2081298e-ac96-4b43-e8c1-c8be9a83f8e3"
      },
      "execution_count": null,
      "outputs": [
        {
          "output_type": "stream",
          "name": "stdout",
          "text": [
            "[]\n",
            "[<__main__.kubus object at 0x7f7df2d1c5e0>]\n",
            "[<__main__.kubus object at 0x7f7df2d1c5e0>, <__main__.balok object at 0x7f7dfbeb7940>]\n",
            "[<__main__.kubus object at 0x7f7df2d1c5e0>, <__main__.balok object at 0x7f7dfbeb7940>, <__main__.tabung object at 0x7f7df2d1c3a0>]\n",
            "Volume kubus  = 1000\n",
            "Volume Blok = 30\n",
            "Volume Tabung = 3140.0\n"
          ]
        }
      ]
    },
    {
      "cell_type": "markdown",
      "source": [
        "#**PANDAS**\n",
        "\n",
        "\n",
        "---\n",
        "Keunggulan Pandas:\n",
        "1. Mudah digunakan: Python Pandas memiliki sintaks yang mudah dimengerti dan intuitif, sehingga mudah dipelajari oleh pemula.\n",
        "\n",
        "2. Efisien: Python Pandas dapat memproses data dalam jumlah besar dengan cepat dan efisien.\n",
        "\n",
        "3. Data cleaning: Python Pandas menyediakan berbagai fungsi untuk membersihkan dan menghapus data yang tidak relevan.\n",
        "\n",
        "4. Data manipulation: Python Pandas memungkinkan pengguna untuk melakukan manipulasi data seperti pivot table, merging, dan grouping data.\n",
        "\n",
        "5. Data analysis: Python Pandas menyediakan berbagai fungsi untuk analisis data seperti statistik, korelasi, dan regresi.\n",
        "\n",
        "6. Visualisasi: Python Pandas memungkinkan pengguna untuk membuat visualisasi data yang menarik dan informatif.\n",
        "\n",
        "7. Integrasi dengan sumber data: Python Pandas dapat digunakan untuk mengakses dan memanipulasi data dari berbagai sumber seperti file CSV, Excel, SQL database, dan API.\n",
        "\n"
      ],
      "metadata": {
        "id": "FwweKSiSeXnA"
      }
    },
    {
      "cell_type": "markdown",
      "source": [
        "#**Pandas Adalah**\n",
        "\n",
        "\n",
        "---\n",
        "libary python yang digunakan untuk bekerja dengan kumpulan data. Pandas mimiliki fungsi untuk menganalisis , membersihkan, ekspolrasi dan memanipulasi data\n"
      ],
      "metadata": {
        "id": "f4FuZ0pOfAno"
      }
    },
    {
      "cell_type": "code",
      "source": [
        "#import data libarynya dulu maseh\n",
        "import pandas as pd\n",
        "\n",
        "#buat datasetnya maseh\n",
        "dataset  = { \n",
        "    'nama' : ['aldi daim fauzan','asep mabar','rrq windah'] ,\n",
        "    'umur' : [40,21,31]\n",
        "}\n",
        "\n",
        "#konversi biar bisa ditampilin\n",
        "myvar = pd.DataFrame(dataset)\n",
        "\n",
        "print(myvar)"
      ],
      "metadata": {
        "colab": {
          "base_uri": "https://localhost:8080/"
        },
        "id": "kKsNWm9Mf_HZ",
        "outputId": "b302f16a-9f1d-42d0-8f34-a374ba6e2902"
      },
      "execution_count": null,
      "outputs": [
        {
          "output_type": "stream",
          "name": "stdout",
          "text": [
            "               nama  umur\n",
            "0  aldi daim fauzan    40\n",
            "1        asep mabar    21\n",
            "2        rrq windah    31\n"
          ]
        }
      ]
    },
    {
      "cell_type": "markdown",
      "source": [
        "#**pandas series**\n",
        "\n",
        "pandas series biasanya digunakan input atau output daru oprasi yang melibatkan dataframe, seperti pemilihan kolom atau baris pada DataFrame, atau sebagai objek untuk mengindeks data lain  \n",
        "\n",
        "Pandas Series dengan menggunakan fungsi pd.Series pada baris ketiga. Karena tidak diberikan parameter index, maka secara default indeksnya akan berupa integer mulai dari 0."
      ],
      "metadata": {
        "id": "md7pGytCgYGr"
      }
    },
    {
      "cell_type": "code",
      "source": [
        "import pandas as pd \n",
        "lecture = ['asep surasep', 'udin petot' , 'asep bengkel']\n",
        "\n",
        "myvar = pd.Series(lecture)\n",
        "\n",
        "print(myvar)"
      ],
      "metadata": {
        "colab": {
          "base_uri": "https://localhost:8080/"
        },
        "id": "IWKtw1XVgfxR",
        "outputId": "20030435-4e28-4352-c20d-15a985e2bc8d"
      },
      "execution_count": null,
      "outputs": [
        {
          "output_type": "stream",
          "name": "stdout",
          "text": [
            "0    asep surasep\n",
            "1      udin petot\n",
            "2    asep bengkel\n",
            "dtype: object\n"
          ]
        }
      ]
    },
    {
      "cell_type": "markdown",
      "source": [],
      "metadata": {
        "id": "lfX9LrK6i6F-"
      }
    },
    {
      "cell_type": "markdown",
      "source": [
        "#**Pandas series indexing**\n",
        "\n",
        "\n",
        "---\n",
        "ode di atas merupakan kode yang digunakan untuk membuat sebuah Pandas Series pada bahasa pemrograman Python dengan menggunakan library Pandas.\n",
        "\n",
        "Pada kode tersebut, terdapat import statement pada baris pertama yang digunakan untuk mengimport library Pandas dengan alias pd. Kemudian, terdapat sebuah list bernama akademik yang berisi nama-nama mahasiswa.\n",
        "\n",
        "Selanjutnya, list akademik diubah menjadi sebuah Pandas Series dengan menggunakan fungsi pd.Series pada baris ketiga. Pada saat diubah menjadi Pandas Series, list akademik diberikan index yang baru, yaitu 'a', 'b', 'c', 'd', dan 'e'.\n",
        "\n",
        "Terakhir, hasil dari Pandas Series tersebut dicetak ke layar menggunakan fungsi print pada baris keempat.\n"
      ],
      "metadata": {
        "id": "YL-V_GhEgo_r"
      }
    },
    {
      "cell_type": "code",
      "source": [
        "import pandas as pd\n",
        "\n",
        "akademik = ['raditio', 'yusuf','maysa','chintany','olin']\n",
        "\n",
        "data_akademik=pd.Series(akademik,index=['a','b','c','d','e'])\n",
        "\n",
        "print(data_akademik)\n"
      ],
      "metadata": {
        "colab": {
          "base_uri": "https://localhost:8080/"
        },
        "id": "U36tuUp-gojc",
        "outputId": "8b4079ef-773a-4edd-aa5d-9bae43ef851f"
      },
      "execution_count": null,
      "outputs": [
        {
          "output_type": "stream",
          "name": "stdout",
          "text": [
            "a     raditio\n",
            "b       yusuf\n",
            "c       maysa\n",
            "d    chintany\n",
            "e        olin\n",
            "dtype: object\n"
          ]
        }
      ]
    },
    {
      "cell_type": "markdown",
      "source": [
        "#**No label series**\n",
        "\n",
        "\n",
        "Pada baris terakhir, hasil dari nilai pada indeks pertama (indeks ke-0) dari Pandas Series tersebut dicetak ke layar menggunakan fungsi print."
      ],
      "metadata": {
        "id": "FR7NVpihjSWB"
      }
    },
    {
      "cell_type": "code",
      "source": [
        "import pandas as pd\n",
        "\n",
        "akademik = ['raditio', 'yusuf','maysa','chintany','olin']\n",
        "data_akademik = pd.Series(akademik)\n",
        "\n",
        "print(data_akademik[0])"
      ],
      "metadata": {
        "colab": {
          "base_uri": "https://localhost:8080/"
        },
        "id": "iGAuMxjTjQ-B",
        "outputId": "51d72d69-c0b9-484a-d21e-a0e93acdceae"
      },
      "execution_count": null,
      "outputs": [
        {
          "output_type": "stream",
          "name": "stdout",
          "text": [
            "raditio\n"
          ]
        }
      ]
    },
    {
      "cell_type": "markdown",
      "source": [
        "#**pandas data frame**\n",
        "\n",
        "Pandas DataFrame adalah struktur data dua dimensi berbentuk tabel pada bahasa pemrograman\n",
        "Python yang didesain untuk menangani dan memanipulasi dataset besar. DataFrame serupa\n",
        "dengan spreadsheet dan tabel SQL karena terdiri dari baris dan kolom data, dengan setiap kolom\n",
        "berisi tipe data tertentu (misalnya bilangan bulat, string, float, dll.).\n",
        "\n",
        "\n",
        "Di Pandas, DataFrame dibuat menggunakan fungsi pd.DataFrame(). Fungsi ini dapat menerima\n",
        "berbagai macam input, seperti list, dictionary, dan array, dan dapat digunakan untuk membuat\n",
        "DataFrame dari awal atau memuat data dari sumber eksternal seperti file CSV atau database SQL."
      ],
      "metadata": {
        "id": "z-5_epePj6b_"
      }
    },
    {
      "cell_type": "code",
      "source": [
        "import pandas as pd\n",
        "data = {\n",
        "\"calories\": [420, 380, 390],\n",
        "\"duration\": [50, 40, 45]\n",
        "}\n",
        "# myvar = pd.DataFrame(data)\n",
        "df = pd.DataFrame(data)\n",
        "print(df)"
      ],
      "metadata": {
        "colab": {
          "base_uri": "https://localhost:8080/"
        },
        "id": "PlSCZQOyQkU8",
        "outputId": "dcc5090a-f260-4dda-d3c2-0da332fe8d5d"
      },
      "execution_count": null,
      "outputs": [
        {
          "output_type": "stream",
          "name": "stdout",
          "text": [
            "   calories  duration\n",
            "0       420        50\n",
            "1       380        40\n",
            "2       390        45\n"
          ]
        }
      ]
    }
  ]
}